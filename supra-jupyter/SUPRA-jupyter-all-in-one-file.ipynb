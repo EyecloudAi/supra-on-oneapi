{
 "cells": [
  {
   "cell_type": "markdown",
   "metadata": {},
   "source": [
    "# Welcome to SUPRA on Jupyter\n",
    "This document contains the process of using Intel(R) oneAPI Base Toolkit build and run SUPRA on Intel GPU.\n",
    "(This file contains all commands you need to run SUPRA on GPU)"
   ]
  },
  {
   "cell_type": "markdown",
   "metadata": {},
   "source": [
    "**Intel(R) oneAPI is still in beta phase, this project only for test and should not be used in products.** "
   ]
  },
  {
   "cell_type": "markdown",
   "metadata": {},
   "source": [
    "## Table of Contents\n",
    "1. [SUPRA introduction](#sec-supra)\n",
    "2. [Build steps](#sec-steps)\n",
    "3. [Performance](#sec-perf)"
   ]
  },
  {
   "cell_type": "markdown",
   "metadata": {},
   "source": [
    "<a id=\"sec-supra\"></a>\n",
    "## 1. SUPRA introduction\n",
    "\n",
    "The SUPRA is an open source project, your can find detailed information at <a href=\"https://github.com/IFL-CAMP/supra\">SUPRA</a>."
   ]
  },
  {
   "cell_type": "markdown",
   "metadata": {},
   "source": [
    "<a id=\"sec-steps\"></a>\n",
    "## 2. Build steps"
   ]
  },
  {
   "cell_type": "markdown",
   "metadata": {},
   "source": [
    "#### **Usage Tip:**\n",
    "**Create an empty folder in your linux machine(ubuntu 18.04).Copy this file to the folder. launch jupyter lab or jupyter notebook and open this file, follow the below command.**"
   ]
  },
  {
   "cell_type": "markdown",
   "metadata": {},
   "source": [
    "### 2.1 Download source code from github and apply patch"
   ]
  },
  {
   "cell_type": "code",
   "execution_count": null,
   "metadata": {},
   "outputs": [],
   "source": [
    "%%bash\n",
    "# Download source code and patches\n",
    "git clone https://github.com/IFL-CAMP/supra.git\n",
    "git clone https://github.com/intel/supra-on-oneapi.git\n",
    "    \n",
    "cd supra \n",
    "git reset --hard 73c930a08a7b1087f5be588863876a648a1add99 \n",
    "git am --whitespace=nowarn ../supra-on-oneapi/*.patch \n",
    "git am --whitespace=nowarn ../supra-on-oneapi/supra-jupyter/*.patch"
   ]
  },
  {
   "cell_type": "markdown",
   "metadata": {},
   "source": [
    "### 2.1 Download Ultrasound data and unzip files"
   ]
  },
  {
   "cell_type": "code",
   "execution_count": null,
   "metadata": {},
   "outputs": [],
   "source": [
    "%%bash\n",
    "echo \"Downloading raw ultrasound data,you may need wait minutes...\"\n",
    "wget http://campar.in.tum.de/files/goeblr/mockData_linearProbe.zip -o /dev/null\n",
    "wget https://github.com/IFL-CAMP/supra/raw/master/config/configDemo.xml -o /dev/null\n",
    "\n",
    "mkdir data\n",
    "\n",
    "mv configDemo.xml data\n",
    "mv mockData_linearProbe.zip data\n",
    "\n",
    "cd data && unzip mockData_linearProbe.zip -d . && rm mockData_linearProbe.zip\n",
    "\n",
    "echo \"data ok!\""
   ]
  },
  {
   "cell_type": "markdown",
   "metadata": {},
   "source": [
    "### Note: If import wget fails, run below command to install wget and re-run above cell"
   ]
  },
  {
   "cell_type": "code",
   "execution_count": null,
   "metadata": {},
   "outputs": [],
   "source": [
    "!pip install wget"
   ]
  },
  {
   "cell_type": "markdown",
   "metadata": {},
   "source": [
    "### Use below command in your terminal to install Below 3rd libraries if you first run SUPRA on your machine."
   ]
  },
  {
   "cell_type": "markdown",
   "metadata": {},
   "source": [
    "sudo apt-get install cmake cmake-gui qt5-default libtbb-dev libopenigtlink-dev git"
   ]
  },
  {
   "cell_type": "markdown",
   "metadata": {},
   "source": [
    "#### Build project for GPU"
   ]
  },
  {
   "cell_type": "code",
   "execution_count": null,
   "metadata": {},
   "outputs": [],
   "source": [
    "%%bash\n",
    "# Setup oneAPI environment\n",
    "echo \"Build process stat, this may take minutes\"\n",
    "source /opt/intel/inteloneapi/setvars.sh --force\n",
    "set -x\n",
    "dpcpp --version\n",
    "\n",
    "echo \"Remove old build folder...\"\n",
    "cd supra && rm -rf build && mkdir -p build && cd build\n",
    "echo \"Remove done.\"\n",
    "\n",
    "\n",
    "export PATH=`echo ${PATH} | awk -v RS=: -v ORS=: '/vtune/ {next} {print}'`\n",
    "\n",
    "CC=clang CXX=dpcpp cmake .. \n",
    "make -j4 &> /dev/null\n",
    "echo \"Build done!\""
   ]
  },
  {
   "cell_type": "markdown",
   "metadata": {},
   "source": [
    "#### Run on GPU in Commandline version\n",
    "After run a while, you can interrupt below cell to stop supra running."
   ]
  },
  {
   "cell_type": "code",
   "execution_count": null,
   "metadata": {},
   "outputs": [],
   "source": [
    "%%bash\n",
    "# Run SUPRA on GPU\n",
    "source /opt/intel/inteloneapi/setvars.sh --force\n",
    "\n",
    "cd supra/build\n",
    "cp -r ../../data .\n",
    "rm -rf RxBeamformer HilbertFirEnvelope LogCompressor ScanConverter\n",
    "rm supra.log\n",
    "mkdir RxBeamformer HilbertFirEnvelope LogCompressor ScanConverter\n",
    "\n",
    "./src/CommandlineInterface/SUPRA_CMD data/configDemo.xml"
   ]
  },
  {
   "cell_type": "markdown",
   "metadata": {},
   "source": [
    "#### ====== Note: Run on GPU in Graphic version ======="
   ]
  },
  {
   "cell_type": "markdown",
   "metadata": {},
   "source": [
    "#### Open a terminal, In supra/build foler, run below command to see output.\n",
    "\n",
    "source /opt/intel/inteloneapi/setvars.sh\n",
    "\n",
    "src/GraphicInterface/SUPRA_GUI -c data/configDemo.xml -a\n"
   ]
  },
  {
   "cell_type": "markdown",
   "metadata": {},
   "source": [
    "#### ====== End of Note ======="
   ]
  },
  {
   "cell_type": "markdown",
   "metadata": {},
   "source": [
    "#### Display GPU output"
   ]
  },
  {
   "cell_type": "code",
   "execution_count": null,
   "metadata": {},
   "outputs": [],
   "source": [
    "import matplotlib.pyplot as plt\n",
    "%matplotlib inline\n",
    "# image path\n",
    "fpga_img_path = [\"./supra/build/RxBeamformer/\", \"./supra/build/HilbertFirEnvelope/\", \n",
    "               \"./supra/build/LogCompressor/\", \"./supra/build/ScanConverter/\"]\n",
    "col_labels = [\"RxBeamformer\", \"HilbertFirEnvelope\", \"LogCompressor\", \"ScanConverter\"]\n",
    "row_labels = [\"Frame #\" + str(i+1) for i in range(8)]\n",
    "\n",
    "for row_img_index in range(8):\n",
    "        \n",
    "    fig, axs = plt.subplots(1, 4, figsize=(10,5))\n",
    "    \n",
    "    if row_img_index == 0:\n",
    "        for i, col in zip(range(4), col_labels):\n",
    "            axs[i].set_title(col)\n",
    "        \n",
    "    for col_img_index in range(4):\n",
    "        current_img_path = fpga_img_path[col_img_index] + str(row_img_index + 1) + '.png'\n",
    "        current_img = plt.imread(current_img_path)\n",
    "        axs[col_img_index].imshow(current_img, \"gray\")\n",
    "        axs[col_img_index].axis('off')\n",
    "    fig.suptitle(row_labels[row_img_index], x= -0.05, y=0.5,fontsize = 9)\n",
    "    plt.tight_layout()\n",
    "    plt.show()\n",
    "plt.show()"
   ]
  },
  {
   "cell_type": "markdown",
   "metadata": {},
   "source": [
    "<a id=\"sec-perf\"></a>\n",
    "## 3. Performance"
   ]
  },
  {
   "cell_type": "markdown",
   "metadata": {},
   "source": [
    "The performance data were written to  ./supra/build/supra.log file. run below cell to check."
   ]
  },
  {
   "cell_type": "code",
   "execution_count": null,
   "metadata": {},
   "outputs": [],
   "source": [
    "!cat ./supra/build/supra.log"
   ]
  }
 ],
 "metadata": {
  "kernelspec": {
   "display_name": "Python 3",
   "language": "python",
   "name": "python3"
  },
  "language_info": {
   "codemirror_mode": {
    "name": "ipython",
    "version": 3
   },
   "file_extension": ".py",
   "mimetype": "text/x-python",
   "name": "python",
   "nbconvert_exporter": "python",
   "pygments_lexer": "ipython3",
   "version": "3.6.9"
  }
 },
 "nbformat": 4,
 "nbformat_minor": 4
}
